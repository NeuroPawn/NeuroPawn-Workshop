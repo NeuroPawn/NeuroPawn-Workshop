{
 "cells": [
  {
   "cell_type": "markdown",
   "metadata": {},
   "source": [
    "### Problem Statement\n",
    "---\n",
    "SSVEP Classification Using EEG: Developing and Testing a Classifier for Frequency-Based Stimuli Detection\n",
    "\n",
    "#### Background\n",
    "---\n",
    "Steady-State Visual Evoked Potentials (SSVEP) are responses generated in the brain when a subject views a visual stimulus flickering at a constant frequency. \n",
    "\n",
    "These responses can be detected via Electroencephalography (EEG) and are commonly used in Brain-Computer Interface (BCI) applications, such as controlling external devices or interfaces. \n",
    "\n",
    "The NeuroPawn headset and the NeuroPawn Knight Board are wearable EEG devices capable of capturing brain signals, while the NeuroPawn SSVEP GUI provides a customizable visual stimulus presentation platform for generating SSVEPs at multiple frequencies.\n",
    "\n",
    "#### Objective\n",
    "---\n",
    "The objective of this project is to design, develop, and test a robust EEG classifier for SSVEP detection. \n",
    "\n",
    "The classifier should accurately identify the specific frequency of the visual stimulus viewed by the subject based on EEG data. \n",
    "\n",
    "The classifier will be trained on data acquired from the NeuroPawn headset during an SSVEP experiment, with the ultimate goal of achieving high classification accuracy across multiple SSVEP frequencies.\n",
    "\n",
    "#### Scope\n",
    "---\n",
    "- **Establishing Connection**: Setting up a Python-based connection to the NeuroPawn Knight Board to stream EEG data.\n",
    "\n",
    "- **Data Acquisition**: Acquiring real-time EEG data during an SSVEP experiment using the NeuroPawn headset.\n",
    "\n",
    "- **Signal Processing**: Processing the EEG data to filter noise, remove artifacts, and extract meaningful features for classification.\n",
    "\n",
    "- **Classifier Development**: Designing a classifier capable of distinguishing between EEG signals elicited by different SSVEP frequencies.\n",
    "\n",
    "- **Testing and Evaluation**: Evaluating classifier performance to ensure accuracy and reliability across various frequencies.\n",
    "\n",
    "\n",
    "#### Requirements\n",
    "---\n",
    "- Using Python, establish a connection to the NeuroPawn Knight Board.\n",
    "\n",
    "- Acquire and store EEG data in real time.\n",
    "\n",
    "- Implement preprocessing steps for the EEG data, such asfrequency filtering and artifact removal.\n",
    "\n",
    "- Develop a classifier (e.g., SVM, CNN, or other ML models) trained on features specific to SSVEP frequencies (with either scikit-learn or brainflow.ml_model)\n",
    "\n",
    "- Classify EEG signals in real-time\n",
    "\n",
    "- (Optional) Evaluate classifier performance using appropriate metrics (e.g., accuracy, precision, recall) and optimize for high classification accuracy."
   ]
  },
  {
   "cell_type": "code",
   "execution_count": null,
   "metadata": {},
   "outputs": [],
   "source": [
    "import numpy as np\n",
    "from brainflow.board_shim import BoardShim, BrainFlowInputParams, BoardIds\n",
    "from brainflow.data_filter import DataFilter, FilterTypes, DetrendOperations, WindowOperations"
   ]
  }
 ],
 "metadata": {
  "kernelspec": {
   "display_name": "NeuroPawn-GUI",
   "language": "python",
   "name": "python3"
  },
  "language_info": {
   "name": "python",
   "version": "3.9.19"
  }
 },
 "nbformat": 4,
 "nbformat_minor": 2
}
